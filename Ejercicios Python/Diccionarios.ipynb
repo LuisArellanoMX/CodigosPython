{
 "cells": [
  {
   "cell_type": "markdown",
   "metadata": {},
   "source": [
    "### Diccionarios\n",
    "Son un conjunto de pares\n",
    "clave: valor\n",
    "\n",
    "Se puede acceder a el valor por medio de la clave"
   ]
  },
  {
   "cell_type": "code",
   "execution_count": 1,
   "metadata": {},
   "outputs": [
    {
     "name": "stdout",
     "output_type": "stream",
     "text": [
      "3\n"
     ]
    }
   ],
   "source": [
    "vacaciones = {}\n",
    "vacaciones[\"Sara\"] = 3\n",
    "vacaciones[\"Miguel\"] = 5\n",
    "\n",
    "print(vacaciones[\"Sara\"])"
   ]
  },
  {
   "cell_type": "markdown",
   "metadata": {},
   "source": [
    "Para eliminar elementos de los diccionarios es como en las listas con la clausula *del* y la clave <br>\n",
    "`del vacaciones[\"Sara\"]`"
   ]
  },
  {
   "cell_type": "markdown",
   "metadata": {},
   "source": [
    "## Ejemplo de diccionario"
   ]
  },
  {
   "cell_type": "code",
   "execution_count": 2,
   "metadata": {},
   "outputs": [
    {
     "name": "stdout",
     "output_type": "stream",
     "text": [
      "5000\n"
     ]
    }
   ],
   "source": [
    "sueldo = {}\n",
    "sueldo[\"Jose\"] = 5000\n",
    "sueldo[\"Juan\"] = 30000\n",
    "sueldo[\"Maria\"] = 80000\n",
    "sueldo[\"Juan\"] = 30000\n",
    "\n",
    "print(sueldo[\"Jose\"])\n"
   ]
  },
  {
   "cell_type": "code",
   "execution_count": 6,
   "metadata": {},
   "outputs": [
    {
     "name": "stdout",
     "output_type": "stream",
     "text": [
      "{'Jose': 5000, 'Juan': 30000, 'Maria': 80000}\n"
     ]
    }
   ],
   "source": [
    "print(sueldo)"
   ]
  },
  {
   "cell_type": "markdown",
   "metadata": {},
   "source": [
    "### Recorrer el diccionario con un for"
   ]
  },
  {
   "cell_type": "code",
   "execution_count": 3,
   "metadata": {},
   "outputs": [
    {
     "name": "stdout",
     "output_type": "stream",
     "text": [
      "Jose\n",
      "Juan\n",
      "Maria\n"
     ]
    }
   ],
   "source": [
    "for i in sueldo:\n",
    "    print(i)"
   ]
  },
  {
   "cell_type": "code",
   "execution_count": 4,
   "metadata": {},
   "outputs": [
    {
     "name": "stdout",
     "output_type": "stream",
     "text": [
      "Jose 5000\n",
      "Juan 30000\n",
      "Maria 80000\n"
     ]
    }
   ],
   "source": [
    "for i in sueldo:\n",
    "    print(i, sueldo[i])"
   ]
  },
  {
   "cell_type": "markdown",
   "metadata": {},
   "source": [
    "### Tamaño del diccionario"
   ]
  },
  {
   "cell_type": "code",
   "execution_count": 5,
   "metadata": {},
   "outputs": [
    {
     "data": {
      "text/plain": [
       "3"
      ]
     },
     "execution_count": 5,
     "metadata": {},
     "output_type": "execute_result"
    }
   ],
   "source": [
    "len(sueldo)"
   ]
  },
  {
   "cell_type": "markdown",
   "metadata": {},
   "source": [
    "## Un valor de una clave puede desglosarse en otras estructuras menores"
   ]
  },
  {
   "cell_type": "code",
   "execution_count": 7,
   "metadata": {},
   "outputs": [],
   "source": [
    "sueldo[\"Jose\"] = {\"Ingresos\":50000, \"Prestamo\":10000, \"Impuestos\":5000}"
   ]
  },
  {
   "cell_type": "code",
   "execution_count": 8,
   "metadata": {},
   "outputs": [
    {
     "name": "stdout",
     "output_type": "stream",
     "text": [
      "{'Jose': {'Ingresos': 50000, 'Prestamo': 10000, 'Impuestos': 5000}, 'Juan': 30000, 'Maria': 80000}\n"
     ]
    }
   ],
   "source": [
    "print(sueldo)"
   ]
  },
  {
   "cell_type": "code",
   "execution_count": 13,
   "metadata": {},
   "outputs": [
    {
     "name": "stdout",
     "output_type": "stream",
     "text": [
      "50000\n"
     ]
    }
   ],
   "source": [
    "print(sueldo[\"Jose\"][\"Ingresos\"])"
   ]
  }
 ],
 "metadata": {
  "kernelspec": {
   "display_name": "Python 3.10.6 64-bit (windows store)",
   "language": "python",
   "name": "python3"
  },
  "language_info": {
   "codemirror_mode": {
    "name": "ipython",
    "version": 3
   },
   "file_extension": ".py",
   "mimetype": "text/x-python",
   "name": "python",
   "nbconvert_exporter": "python",
   "pygments_lexer": "ipython3",
   "version": "3.10.7"
  },
  "orig_nbformat": 4,
  "vscode": {
   "interpreter": {
    "hash": "1685da98c0d8da40ef3ffb02de3467888361aa4f7ed1f3431afef30d19ebcc9c"
   }
  }
 },
 "nbformat": 4,
 "nbformat_minor": 2
}
