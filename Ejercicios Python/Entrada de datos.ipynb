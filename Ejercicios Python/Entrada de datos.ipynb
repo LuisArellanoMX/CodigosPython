{
 "cells": [
  {
   "cell_type": "markdown",
   "metadata": {},
   "source": [
    "# Entrada de datos"
   ]
  },
  {
   "cell_type": "markdown",
   "metadata": {},
   "source": [
    "## Capturar un entero\n",
    "Este metodo necesita una validacion ya que si el usuario introduce algo que no se puede transformar a entero el programma truena"
   ]
  },
  {
   "cell_type": "code",
   "execution_count": 9,
   "metadata": {},
   "outputs": [
    {
     "name": "stdout",
     "output_type": "stream",
     "text": [
      "<class 'str'>\n",
      "1234\n",
      "<class 'int'>\n"
     ]
    }
   ],
   "source": [
    "a = input(\"Dame un entero: \")\n",
    "print(type(a))\n",
    "a = int(a)\n",
    "print(a)\n",
    "print(type(a))"
   ]
  },
  {
   "cell_type": "markdown",
   "metadata": {},
   "source": [
    "## Validacion de entrada"
   ]
  },
  {
   "cell_type": "code",
   "execution_count": 18,
   "metadata": {},
   "outputs": [
    {
     "name": "stdout",
     "output_type": "stream",
     "text": [
      "Se convirtio a entero con exito\n",
      "1234 <class 'int'>\n"
     ]
    }
   ],
   "source": [
    "b = input(\"Dame un entero: \")\n",
    "if b.isdecimal():\n",
    "    b = int(b)\n",
    "    print(\"Se convirtio a entero con exito\")\n",
    "    print(b, type(b))\n",
    "else:\n",
    "    print(\"Entrada invalida, no se convirtio a entero\")\n",
    "    print(b, type(b))"
   ]
  },
  {
   "cell_type": "markdown",
   "metadata": {},
   "source": [
    "## Else if en python\n",
    "\n",
    "if (expresion1):<br>\n",
    "    instrucciones<br>\n",
    "elif (expresion2):<br>\n",
    "    instrucciones<br>\n",
    "elif (expresion3):<br>\n",
    "    instrucciones<br>"
   ]
  },
  {
   "cell_type": "markdown",
   "metadata": {},
   "source": []
  }
 ],
 "metadata": {
  "kernelspec": {
   "display_name": "Python 3.10.6 64-bit (windows store)",
   "language": "python",
   "name": "python3"
  },
  "language_info": {
   "codemirror_mode": {
    "name": "ipython",
    "version": 3
   },
   "file_extension": ".py",
   "mimetype": "text/x-python",
   "name": "python",
   "nbconvert_exporter": "python",
   "pygments_lexer": "ipython3",
   "version": "3.10.6"
  },
  "orig_nbformat": 4,
  "vscode": {
   "interpreter": {
    "hash": "1685da98c0d8da40ef3ffb02de3467888361aa4f7ed1f3431afef30d19ebcc9c"
   }
  }
 },
 "nbformat": 4,
 "nbformat_minor": 2
}
