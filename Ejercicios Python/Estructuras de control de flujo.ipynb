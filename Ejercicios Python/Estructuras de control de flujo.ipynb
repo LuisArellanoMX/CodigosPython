{
 "cells": [
  {
   "cell_type": "markdown",
   "metadata": {},
   "source": [
    "# Estructuras de control de flujo"
   ]
  },
  {
   "cell_type": "markdown",
   "metadata": {},
   "source": [
    "## if"
   ]
  },
  {
   "cell_type": "code",
   "execution_count": 1,
   "metadata": {},
   "outputs": [],
   "source": [
    "if 3 == 4:\n",
    "    print(\"Verdadera\\nHola\")"
   ]
  },
  {
   "cell_type": "code",
   "execution_count": 2,
   "metadata": {},
   "outputs": [
    {
     "name": "stdout",
     "output_type": "stream",
     "text": [
      "Verdadera\n",
      "Hola\n"
     ]
    }
   ],
   "source": [
    "if 3 != 4:\n",
    "    print(\"Verdadera\\nHola\")"
   ]
  },
  {
   "cell_type": "markdown",
   "metadata": {},
   "source": [
    "## if else"
   ]
  },
  {
   "cell_type": "code",
   "execution_count": 3,
   "metadata": {},
   "outputs": [
    {
     "name": "stdout",
     "output_type": "stream",
     "text": [
      "Es falso\n"
     ]
    }
   ],
   "source": [
    "if 3 == 4:\n",
    "    print(\"Verdadera\\nHola\")\n",
    "else:\n",
    "    print(\"Es falso\")"
   ]
  },
  {
   "cell_type": "markdown",
   "metadata": {},
   "source": [
    "El if sirve para valdidar valores regularmente"
   ]
  },
  {
   "cell_type": "markdown",
   "metadata": {},
   "source": [
    "## elif\n",
    "Python no tiene switch case pero se usa esta estructura elif como alternativa"
   ]
  },
  {
   "cell_type": "code",
   "execution_count": 9,
   "metadata": {},
   "outputs": [
    {
     "name": "stdout",
     "output_type": "stream",
     "text": [
      "Valor entre 10 y 20\n"
     ]
    }
   ],
   "source": [
    "a =15\n",
    "\n",
    "if(0<=a<10):\n",
    "    print(\"Valor entre el 0 y el 9\")\n",
    "elif(10<=a<20):\n",
    "    print(\"Valor entre 10 y 20\")\n",
    "else:\n",
    "    print(\"Valor mayor o igual a 20\")"
   ]
  },
  {
   "cell_type": "markdown",
   "metadata": {},
   "source": [
    "## While\n",
    "Se usa para hacer ciclos con una condicion"
   ]
  },
  {
   "cell_type": "code",
   "execution_count": 14,
   "metadata": {},
   "outputs": [
    {
     "name": "stdout",
     "output_type": "stream",
     "text": [
      "a tiene un valor entre 0 y 10\n",
      " a = %d 4\n"
     ]
    }
   ],
   "source": [
    "import string\n",
    "\n",
    "\n",
    "a = 4\n",
    "while 0<=a<=10:\n",
    "    print(\"a tiene un valor entre 0 y 10\\n a = %d\",a)\n",
    "    a = int(input(\"Introduce un nuevo valor de a\"))\n"
   ]
  },
  {
   "cell_type": "markdown",
   "metadata": {},
   "source": [
    "## while como validacion de datos"
   ]
  },
  {
   "cell_type": "code",
   "execution_count": 2,
   "metadata": {},
   "outputs": [
    {
     "name": "stdout",
     "output_type": "stream",
     "text": [
      "hola no es un entero\n",
      "s no es un entero\n",
      "1\n"
     ]
    }
   ],
   "source": [
    "a = \"hola\"\n",
    "while not a.isdecimal():\n",
    "    print(a+\" no es un entero\")\n",
    "    a = input(\"Dame un entero\")\n",
    "a = int(a)\n",
    "print (a)\n"
   ]
  },
  {
   "cell_type": "markdown",
   "metadata": {},
   "source": [
    "### Captura y suma de 2 numeros"
   ]
  },
  {
   "cell_type": "code",
   "execution_count": 5,
   "metadata": {},
   "outputs": [
    {
     "name": "stdout",
     "output_type": "stream",
     "text": [
      "a no es un entero\n",
      "a no es un entero\n",
      "hola no es un entero\n",
      "hola no es un entero\n",
      "La summa de  10  y  5  es  15\n"
     ]
    }
   ],
   "source": [
    "a = input(\"Dame el primer numero... \")\n",
    "while not a.isdecimal():\n",
    "    print(a+\" no es un entero\")\n",
    "    a = input(\"Dame un entero\")\n",
    "a = int(a)\n",
    "\n",
    "b = input(\"Dame el segundo numero... \")\n",
    "while not b.isdecimal():\n",
    "    print(b+\" no es un entero\")\n",
    "    a = input(\"Dame un entero\")\n",
    "b = int(b)\n",
    "\n",
    "print(\"La summa de \", a, \" y \", b, \" es \", a+b )"
   ]
  },
  {
   "cell_type": "markdown",
   "metadata": {},
   "source": [
    "### Definicion de un metodo para capturar un entero"
   ]
  },
  {
   "cell_type": "code",
   "execution_count": 9,
   "metadata": {},
   "outputs": [
    {
     "name": "stdout",
     "output_type": "stream",
     "text": [
      "La summa de  4  y  5  es  9\n"
     ]
    }
   ],
   "source": [
    "def capInt(mensaje):\n",
    "    a = input(mensaje)\n",
    "    while not a.isdecimal():\n",
    "        a = input(mensaje)\n",
    "    return int(a)\n",
    "\n",
    "def suma(num1, num2):\n",
    "    print(\"La summa de \", num1, \" y \", num2, \" es \", num1+num2 )\n",
    "\n",
    "x = capInt(\"Dame el primer numero\")\n",
    "y = capInt(\"Dame el segundo numero\")\n",
    "suma(x,y)\n"
   ]
  },
  {
   "cell_type": "markdown",
   "metadata": {},
   "source": [
    "### Definicion de metodo  para capturar un numero entero o float"
   ]
  },
  {
   "cell_type": "code",
   "execution_count": 29,
   "metadata": {},
   "outputs": [
    {
     "name": "stdout",
     "output_type": "stream",
     "text": [
      "Esto no es un numero\n",
      "Esto no es un numero\n",
      "La summa de  12.3  y  1.1  es  13.4\n"
     ]
    }
   ],
   "source": [
    "def capNum(mensaje):\n",
    "    while True:\n",
    "        try:\n",
    "            a = float(input(mensaje))\n",
    "            return float(a)\n",
    "        except:\n",
    "            continue\n",
    "\n",
    "def suma(num1, num2):\n",
    "    print(\"La summa de \", num1, \" y \", num2, \" es \", num1+num2 )\n",
    "\n",
    "x = capNum(\"Dame el primer numero\")\n",
    "y = capNum(\"Dame el segundo numero\")\n",
    "suma(x,y)\n",
    "    "
   ]
  },
  {
   "cell_type": "markdown",
   "metadata": {},
   "source": [
    "### El metodo suma tambien puede concatenar strings"
   ]
  },
  {
   "cell_type": "code",
   "execution_count": 31,
   "metadata": {},
   "outputs": [
    {
     "name": "stdout",
     "output_type": "stream",
     "text": [
      "La summa de  Hola   y  mundo  es  Hola mundo\n"
     ]
    }
   ],
   "source": [
    "suma(\"Hola \", \"mundo\")"
   ]
  },
  {
   "cell_type": "markdown",
   "metadata": {},
   "source": [
    "## Ejemplo del ambito de variables\n",
    "Podemos ver que `x` y `y` estan en un ambitolocal dentro de las funciones por lo tanto  en el ambito global no existen "
   ]
  },
  {
   "cell_type": "code",
   "execution_count": 33,
   "metadata": {},
   "outputs": [
    {
     "ename": "NameError",
     "evalue": "name 'w' is not defined",
     "output_type": "error",
     "traceback": [
      "\u001b[1;31m---------------------------------------------------------------------------\u001b[0m",
      "\u001b[1;31mNameError\u001b[0m                                 Traceback (most recent call last)",
      "\u001b[1;32mc:\\Users\\arell\\OneDrive - Instituto Tecnológico de León\\7 Semestre\\Prog logica y funcional\\Estructuras de control de flujo.ipynb Celda 23\u001b[0m in \u001b[0;36m<cell line: 10>\u001b[1;34m()\u001b[0m\n\u001b[0;32m      <a href='vscode-notebook-cell:/c%3A/Users/arell/OneDrive%20-%20Instituto%20Tecnol%C3%B3gico%20de%20Le%C3%B3n/7%20Semestre/Prog%20logica%20y%20funcional/Estructuras%20de%20control%20de%20flujo.ipynb#X31sZmlsZQ%3D%3D?line=6'>7</a>\u001b[0m a()\n\u001b[0;32m      <a href='vscode-notebook-cell:/c%3A/Users/arell/OneDrive%20-%20Instituto%20Tecnol%C3%B3gico%20de%20Le%C3%B3n/7%20Semestre/Prog%20logica%20y%20funcional/Estructuras%20de%20control%20de%20flujo.ipynb#X31sZmlsZQ%3D%3D?line=7'>8</a>\u001b[0m b()\n\u001b[1;32m---> <a href='vscode-notebook-cell:/c%3A/Users/arell/OneDrive%20-%20Instituto%20Tecnol%C3%B3gico%20de%20Le%C3%B3n/7%20Semestre/Prog%20logica%20y%20funcional/Estructuras%20de%20control%20de%20flujo.ipynb#X31sZmlsZQ%3D%3D?line=9'>10</a>\u001b[0m \u001b[39mprint\u001b[39m(w\u001b[39m+\u001b[39mz)\n",
      "\u001b[1;31mNameError\u001b[0m: name 'w' is not defined"
     ]
    }
   ],
   "source": [
    "def a():\n",
    "    w = \"Hola \"\n",
    "\n",
    "def b():\n",
    "    z = \"mundo\"\n",
    "\n",
    "a()\n",
    "b()\n",
    "\n",
    "print(w+z)\n"
   ]
  },
  {
   "cell_type": "markdown",
   "metadata": {},
   "source": [
    "Sin embargo con la palabra *`global`* podemos definir una variable global dentro de un ambito global "
   ]
  },
  {
   "cell_type": "code",
   "execution_count": 34,
   "metadata": {},
   "outputs": [
    {
     "name": "stdout",
     "output_type": "stream",
     "text": [
      "Hola mundo\n"
     ]
    }
   ],
   "source": [
    "def a():\n",
    "    global w\n",
    "    w = \"Hola \"\n",
    "\n",
    "def b():\n",
    "    global  z\n",
    "    z = \"mundo\"\n",
    "\n",
    "a()\n",
    "b()\n",
    "\n",
    "print(w+z)"
   ]
  },
  {
   "cell_type": "markdown",
   "metadata": {},
   "source": [
    "## Ciclo For"
   ]
  },
  {
   "cell_type": "markdown",
   "metadata": {},
   "source": [
    "Ejecutar for segun un rango dado"
   ]
  },
  {
   "cell_type": "code",
   "execution_count": 35,
   "metadata": {},
   "outputs": [
    {
     "name": "stdout",
     "output_type": "stream",
     "text": [
      "Vuelta  0\n",
      "Vuelta  1\n",
      "Vuelta  2\n",
      "Vuelta  3\n",
      "Vuelta  4\n"
     ]
    }
   ],
   "source": [
    "for i in range(5):\n",
    "    print(\"Vuelta \", i)"
   ]
  },
  {
   "cell_type": "code",
   "execution_count": 38,
   "metadata": {},
   "outputs": [
    {
     "name": "stdout",
     "output_type": "stream",
     "text": [
      "Vuelta  5\n",
      "Vuelta  6\n",
      "Vuelta  7\n",
      "Vuelta  8\n",
      "Vuelta  9\n"
     ]
    }
   ],
   "source": [
    "for i in range(5,10):\n",
    "    print(\"Vuelta \", i)"
   ]
  },
  {
   "cell_type": "code",
   "execution_count": 40,
   "metadata": {},
   "outputs": [
    {
     "name": "stdout",
     "output_type": "stream",
     "text": [
      "Vuelta  0\n",
      "Vuelta  2\n",
      "Vuelta  4\n",
      "Vuelta  6\n",
      "Vuelta  8\n"
     ]
    }
   ],
   "source": [
    "for i in range(0,10,2):\n",
    "    print(\"Vuelta \", i)"
   ]
  },
  {
   "cell_type": "markdown",
   "metadata": {},
   "source": [
    "Ejecutar for segun la longitud de un string"
   ]
  },
  {
   "cell_type": "code",
   "execution_count": 36,
   "metadata": {},
   "outputs": [
    {
     "name": "stdout",
     "output_type": "stream",
     "text": [
      "Vuelta  H\n",
      "Vuelta  o\n",
      "Vuelta  l\n",
      "Vuelta  a\n"
     ]
    }
   ],
   "source": [
    "for i in \"Hola\":\n",
    "    print(\"Vuelta \", i)"
   ]
  },
  {
   "cell_type": "markdown",
   "metadata": {},
   "source": [
    "Ejecutar for segun los elementos de una lista"
   ]
  },
  {
   "cell_type": "code",
   "execution_count": 37,
   "metadata": {},
   "outputs": [
    {
     "name": "stdout",
     "output_type": "stream",
     "text": [
      "Vuelta  5\n",
      "Vuelta  6\n",
      "Vuelta  7\n",
      "Vuelta  Hola\n",
      "Vuelta  True\n"
     ]
    }
   ],
   "source": [
    "list_1 = [5, 6, 7, \"Hola\", True]\n",
    "for i in list_1:\n",
    "    print(\"Vuelta \", i)"
   ]
  }
 ],
 "metadata": {
  "kernelspec": {
   "display_name": "Python 3.10.6 64-bit (windows store)",
   "language": "python",
   "name": "python3"
  },
  "language_info": {
   "codemirror_mode": {
    "name": "ipython",
    "version": 3
   },
   "file_extension": ".py",
   "mimetype": "text/x-python",
   "name": "python",
   "nbconvert_exporter": "python",
   "pygments_lexer": "ipython3",
   "version": "3.10.6"
  },
  "orig_nbformat": 4,
  "vscode": {
   "interpreter": {
    "hash": "1685da98c0d8da40ef3ffb02de3467888361aa4f7ed1f3431afef30d19ebcc9c"
   }
  }
 },
 "nbformat": 4,
 "nbformat_minor": 2
}
